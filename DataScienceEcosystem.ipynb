{
  "metadata": {
    "kernelspec": {
      "name": "python",
      "display_name": "Python (Pyodide)",
      "language": "python"
    },
    "language_info": {
      "codemirror_mode": {
        "name": "python",
        "version": 3
      },
      "file_extension": ".py",
      "mimetype": "text/x-python",
      "name": "python",
      "nbconvert_exporter": "python",
      "pygments_lexer": "ipython3",
      "version": "3.8"
    }
  },
  "nbformat_minor": 4,
  "nbformat": 4,
  "cells": [
    {
      "cell_type": "code",
      "source": "# Data Science Tools and Ecosystems",
      "metadata": {
        "trusted": true
      },
      "outputs": [],
      "execution_count": null
    },
    {
      "cell_type": "code",
      "source": "## In this notebook, Data Science Tools and Ecosystem are summarized",
      "metadata": {
        "trusted": true
      },
      "outputs": [],
      "execution_count": null
    },
    {
      "cell_type": "code",
      "source": "**Objectives:**\n- List popular languages for Data Science\n- Outline Libraries, Data Sets and Models in Data Science\n- Jypyter Notebooks and Jypyter Labs",
      "metadata": {
        "trusted": true
      },
      "outputs": [],
      "execution_count": null
    },
    {
      "cell_type": "code",
      "source": "## Some of the popular languages that Data Scientists use are:\n1. Python\n2. R\n3. SQL",
      "metadata": {
        "trusted": true
      },
      "outputs": [
        {
          "ename": "<class 'SyntaxError'>",
          "evalue": "invalid syntax (<ipython-input-5-68636a4340eb>, line 2)",
          "traceback": [
            "\u001b[0;36m  Cell \u001b[0;32mIn[5], line 2\u001b[0;36m\u001b[0m\n\u001b[0;31m    1. Python\u001b[0m\n\u001b[0m       ^\u001b[0m\n\u001b[0;31mSyntaxError\u001b[0m\u001b[0;31m:\u001b[0m invalid syntax\n"
          ],
          "output_type": "error"
        }
      ],
      "execution_count": 5
    },
    {
      "cell_type": "code",
      "source": "## Some of the commonly used libraries used by Data Scientists inlcude",
      "metadata": {
        "trusted": true
      },
      "outputs": [],
      "execution_count": null
    },
    {
      "cell_type": "code",
      "source": "1. Numpy\n2. Matplotlib\n3. Pandas\n4. SciPy",
      "metadata": {
        "trusted": true
      },
      "outputs": [],
      "execution_count": null
    },
    {
      "cell_type": "markdown",
      "source": "## Data Science Tools",
      "metadata": {}
    },
    {
      "cell_type": "markdown",
      "source": "| Data Science Tools |\n| ------------------ |\n| Jypyter |\n| RStudio |\n| Spyder |\n| Apache Zeppelin |\n",
      "metadata": {}
    },
    {
      "cell_type": "markdown",
      "source": "## Data Science Tools",
      "metadata": {
        "jp-MarkdownHeadingCollapsed": true
      }
    },
    {
      "cell_type": "code",
      "source": "(3*4)+5\n# This is a simple arithmetic expression to multiply then add numbers",
      "metadata": {
        "trusted": true,
        "scrolled": true
      },
      "outputs": [
        {
          "execution_count": 4,
          "output_type": "execute_result",
          "data": {
            "text/plain": "17"
          },
          "metadata": {}
        }
      ],
      "execution_count": 4
    },
    {
      "cell_type": "code",
      "source": "200/60\n## This will convert 200 minutes to hours by dividing by 60",
      "metadata": {
        "trusted": true
      },
      "outputs": [],
      "execution_count": null
    },
    {
      "cell_type": "code",
      "source": "## Author\nAdam Coles",
      "metadata": {
        "trusted": true
      },
      "outputs": [],
      "execution_count": null
    },
    {
      "cell_type": "code",
      "source": "",
      "metadata": {
        "trusted": true,
        "tags": [],
        "editable": true,
        "slideshow": {
          "slide_type": ""
        }
      },
      "outputs": [],
      "execution_count": null
    }
  ]
}